{
 "cells": [
  {
   "cell_type": "code",
   "execution_count": 1,
   "metadata": {},
   "outputs": [],
   "source": [
    "#Question1"
   ]
  },
  {
   "cell_type": "markdown",
   "metadata": {},
   "source": [
    "χ2 = (60 − 50.886)2/50.886 + ⋯ + (57 − 48.132)2/48.132 = 8.006\n",
    "\n",
    "The critical value of χ**2 with 3 degree of freedom is 7.815. Since 8.006 > 7.815, therefore we reject the null hypothesis and conclude that the education level depends on gender at a 5% level of significance.\n",
    "\n",
    "chi - sq = 8.006, DF = 3, P-Value = 0.046"
   ]
  },
  {
   "cell_type": "code",
   "execution_count": 2,
   "metadata": {},
   "outputs": [],
   "source": [
    "#Question2"
   ]
  },
  {
   "cell_type": "markdown",
   "metadata": {},
   "source": [
    "Step 1: Calculate all the means\n",
    "Mean: 51.13\n",
    "\n",
    "Step 2: Set up the Null and Alternate Hypothesis\n",
    " H0: μ1 = μ2 = μ3\n",
    " Ha: μ1 ≠ μ2 ≠ μ3\n",
    "\n",
    "Step 3: Calculate the Sum of Squares\n",
    "\n",
    "SS(total) = SS(between) + SS(within)\n",
    "\n",
    "Step 4: Calculate the Degrees of Freedom\n",
    "\n",
    "dftotal = n - 1 = 15 - 1 = 14\n",
    "dfwithin = n - k = 15 - 3 = 12\n",
    "dfbetween = k - 1 = 3 - 1 = 2\n",
    "Verify that dftotal = dfbetween + dfwithin\n",
    "\n",
    "Step 5: Calculate the Mean Squares\n",
    "The formula is given below for the mean squares between\n",
    "\n",
    "MS(Between) = SS(between) / df(between)\n",
    "MS(Between) = 3022/2 = 1511.47\n",
    "The formula for the mean squares within\n",
    "MS(Within) = SS(Within) / Df(within)\n",
    "MS(Within) = 1860/12 = 155.07\n",
    "Step 6: Calculate the F Statistic\n",
    "Then we go ahead to calculate the F statistic using MSB and MSW\n",
    "\n",
    "F = MS(Between)/MS(Within)\n",
    "F = 1511.47/155.07 = 9.75\n",
    "Step 7: Look up F from table and state your Conclusion\n",
    "From the table of F distribution, the critical value of F for 0.05 significance and degrees of freedom of(df1 = 12 and df2 = 2) we have:\n",
    "\n",
    "F = 3.89"
   ]
  },
  {
   "cell_type": "code",
   "execution_count": 3,
   "metadata": {},
   "outputs": [],
   "source": [
    "#Question3"
   ]
  },
  {
   "cell_type": "markdown",
   "metadata": {},
   "source": [
    "Calculate F Test for given 10,20,30,40,50 and 5,10,15,20,25\n",
    "\n",
    "For 10, 20,30,40,50:\n",
    "\n",
    "Calculate Variance of first set\n",
    "Total Inputs (N) =(10,20,30,40,50) Total Inputs (N)=5 Mean (xm)= (x1+x1+x2...xn)/N Mean (xm)= 150/5 Means(xm)= 30 SD=sqrt(1/(N-1)*((x1-xm)2+(x2-xm)2+..+(xn-xm)2)) =sqrt(1/(5-1)((10-30)2+(20-30)2+(30-30)2+(40-30)2+(50-30)2)) =sqrt(1/4((-20)2+(-10)2+(0)2+(10)2+(20)2)) =sqrt(1/4((400)+(100)+(0)+(100)+(400))) =sqrt(250) =15.8114 Variance=SD2 Variance=15.81142 Variance=250\n",
    "\n",
    "Calculate Variance of second set For 5, 10,15,20,25: Total Inputs(N) =(5,10,15,20,25) Total Inputs(N)=5 Mean (xm)= (x1+x2+x3...xN)/N Mean (xm)= 75/5 Means (xm)= 15 SD=sqrt(1/(N-1)*((x1-xm)2+(x2-xm)2+..+(xn-xm)2)) =sqrt(1/(5-1)((5-15)2+(10-15)2+(15-15)2+(20-15)2+(25-15)2)) =sqrt(1/4((-10)2+(-5)2+(0)2+(5)2+(10)2)) =sqrt(1/4((100)+(25)+(0)+(25)+(100))) =sqrt(62.5) =7.9057 Variance=SD2 Variance=7.90572 Variance=62.5\n",
    "\n",
    "To calculate F Test F Test = (variance of 10, 20,30,40,50) / (variance of 5, 10, 15, 20, 25) = 250/62.5 = 4.\n",
    "\n",
    "The F Test value is 4."
   ]
  }
 ],
 "metadata": {
  "kernelspec": {
   "display_name": "Python 3",
   "language": "python",
   "name": "python3"
  },
  "language_info": {
   "codemirror_mode": {
    "name": "ipython",
    "version": 3
   },
   "file_extension": ".py",
   "mimetype": "text/x-python",
   "name": "python",
   "nbconvert_exporter": "python",
   "pygments_lexer": "ipython3",
   "version": "3.7.0"
  }
 },
 "nbformat": 4,
 "nbformat_minor": 2
}
